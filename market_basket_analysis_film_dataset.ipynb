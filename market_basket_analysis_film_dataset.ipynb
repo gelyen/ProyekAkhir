{
 "cells": [
  {
   "cell_type": "markdown",
   "id": "a000b84a",
   "metadata": {},
   "source": [
    "# Import Library"
   ]
  },
  {
   "cell_type": "code",
   "execution_count": 31,
   "id": "081f9b97",
   "metadata": {},
   "outputs": [],
   "source": [
    "import pandas as pd\n",
    "import numpy as np\n",
    "import seaborn as sns\n",
    "import matplotlib.pyplot as plt\n",
    "%matplotlib inline"
   ]
  },
  {
   "cell_type": "code",
   "execution_count": 32,
   "id": "fd1df5eb",
   "metadata": {},
   "outputs": [
    {
     "data": {
      "text/html": [
       "<div>\n",
       "<style scoped>\n",
       "    .dataframe tbody tr th:only-of-type {\n",
       "        vertical-align: middle;\n",
       "    }\n",
       "\n",
       "    .dataframe tbody tr th {\n",
       "        vertical-align: top;\n",
       "    }\n",
       "\n",
       "    .dataframe thead th {\n",
       "        text-align: right;\n",
       "    }\n",
       "</style>\n",
       "<table border=\"1\" class=\"dataframe\">\n",
       "  <thead>\n",
       "    <tr style=\"text-align: right;\">\n",
       "      <th></th>\n",
       "      <th>title</th>\n",
       "      <th>year</th>\n",
       "      <th>description</th>\n",
       "      <th>genre</th>\n",
       "      <th>rating</th>\n",
       "      <th>users_rating</th>\n",
       "      <th>votes</th>\n",
       "      <th>languages</th>\n",
       "      <th>directors</th>\n",
       "      <th>actors</th>\n",
       "      <th>runtime</th>\n",
       "    </tr>\n",
       "  </thead>\n",
       "  <tbody>\n",
       "    <tr>\n",
       "      <th>0</th>\n",
       "      <td>#FriendButMarried 2</td>\n",
       "      <td>2020</td>\n",
       "      <td>Ayudia (Mawar De Jongh) is not satisfied enoug...</td>\n",
       "      <td>Biography</td>\n",
       "      <td>13+</td>\n",
       "      <td>6.5</td>\n",
       "      <td>120</td>\n",
       "      <td>Indonesian</td>\n",
       "      <td>Rako Prijanto</td>\n",
       "      <td>['Adipati Dolken', 'Mawar Eva de Jongh', 'Vonn...</td>\n",
       "      <td>100 min</td>\n",
       "    </tr>\n",
       "    <tr>\n",
       "      <th>1</th>\n",
       "      <td>4 Mantan</td>\n",
       "      <td>2020</td>\n",
       "      <td>Sara, Airin, Rachel, and Amara were accidental...</td>\n",
       "      <td>Thriller</td>\n",
       "      <td>17+</td>\n",
       "      <td>6.4</td>\n",
       "      <td>8</td>\n",
       "      <td>Indonesian</td>\n",
       "      <td>Hanny Saputra</td>\n",
       "      <td>['Ranty Maria', 'Jeff Smith', 'Melanie Berentz...</td>\n",
       "      <td>80 min</td>\n",
       "    </tr>\n",
       "    <tr>\n",
       "      <th>2</th>\n",
       "      <td>Aku Tahu Kapan Kamu Mati</td>\n",
       "      <td>2020</td>\n",
       "      <td>After apparent death, Siena is able to see sig...</td>\n",
       "      <td>Horror</td>\n",
       "      <td>13+</td>\n",
       "      <td>5.4</td>\n",
       "      <td>17</td>\n",
       "      <td>Indonesian</td>\n",
       "      <td>Hadrah Daeng Ratu</td>\n",
       "      <td>['Natasha Wilona', 'Ria Ricis', 'Al Ghazali', ...</td>\n",
       "      <td>92 min</td>\n",
       "    </tr>\n",
       "    <tr>\n",
       "      <th>3</th>\n",
       "      <td>Anak Garuda</td>\n",
       "      <td>2020</td>\n",
       "      <td>Good Morning Indonesia, a school for poor orph...</td>\n",
       "      <td>Adventure</td>\n",
       "      <td>13+</td>\n",
       "      <td>9.1</td>\n",
       "      <td>27</td>\n",
       "      <td>Indonesian</td>\n",
       "      <td>Faozan Rizal</td>\n",
       "      <td>['Tissa Biani Azzahra', 'Violla Georgie', 'Aji...</td>\n",
       "      <td>129 min</td>\n",
       "    </tr>\n",
       "    <tr>\n",
       "      <th>4</th>\n",
       "      <td>Dignitate</td>\n",
       "      <td>2020</td>\n",
       "      <td>Alfi (Al Ghazali) meets Alana (Caitlin Halderm...</td>\n",
       "      <td>Drama</td>\n",
       "      <td>17+</td>\n",
       "      <td>7.6</td>\n",
       "      <td>33</td>\n",
       "      <td>Indonesian</td>\n",
       "      <td>Fajar Nugros</td>\n",
       "      <td>['Al Ghazali', 'Caitlin Halderman', 'Giorgino ...</td>\n",
       "      <td>109 min</td>\n",
       "    </tr>\n",
       "    <tr>\n",
       "      <th>...</th>\n",
       "      <td>...</td>\n",
       "      <td>...</td>\n",
       "      <td>...</td>\n",
       "      <td>...</td>\n",
       "      <td>...</td>\n",
       "      <td>...</td>\n",
       "      <td>...</td>\n",
       "      <td>...</td>\n",
       "      <td>...</td>\n",
       "      <td>...</td>\n",
       "      <td>...</td>\n",
       "    </tr>\n",
       "    <tr>\n",
       "      <th>1267</th>\n",
       "      <td>The Tiger from Tjampa</td>\n",
       "      <td>1953</td>\n",
       "      <td>Set in the 1930s, and narrated like a ballad f...</td>\n",
       "      <td>Drama</td>\n",
       "      <td>NaN</td>\n",
       "      <td>6.4</td>\n",
       "      <td>30</td>\n",
       "      <td>Indonesian</td>\n",
       "      <td>D. Djajakusuma</td>\n",
       "      <td>['Wahid Chan', 'Bambang Hermanto', 'R.D. Ismai...</td>\n",
       "      <td>97 min</td>\n",
       "    </tr>\n",
       "    <tr>\n",
       "      <th>1268</th>\n",
       "      <td>Enam Djam di Djogja</td>\n",
       "      <td>1951</td>\n",
       "      <td>Depicting the celebrated recapture of the town...</td>\n",
       "      <td>Drama</td>\n",
       "      <td>NaN</td>\n",
       "      <td>6.3</td>\n",
       "      <td>9</td>\n",
       "      <td>Indonesian</td>\n",
       "      <td>Usmar Ismail</td>\n",
       "      <td>['R.D. Ismail', 'Del Juzar', 'Aedy Moward', 'A...</td>\n",
       "      <td>116 min</td>\n",
       "    </tr>\n",
       "    <tr>\n",
       "      <th>1269</th>\n",
       "      <td>Darah dan Doa</td>\n",
       "      <td>1950</td>\n",
       "      <td>It tells the story of an Indonesian revolution...</td>\n",
       "      <td>Drama</td>\n",
       "      <td>NaN</td>\n",
       "      <td>6.6</td>\n",
       "      <td>27</td>\n",
       "      <td>Indonesian</td>\n",
       "      <td>Usmar Ismail</td>\n",
       "      <td>['Ella Bergen', 'Faridah', 'R.D. Ismail', 'Del...</td>\n",
       "      <td>150 min</td>\n",
       "    </tr>\n",
       "    <tr>\n",
       "      <th>1270</th>\n",
       "      <td>Resia Boroboedoer</td>\n",
       "      <td>1928</td>\n",
       "      <td>NaN</td>\n",
       "      <td>Adventure</td>\n",
       "      <td>NaN</td>\n",
       "      <td>7.0</td>\n",
       "      <td>8</td>\n",
       "      <td>Indonesian</td>\n",
       "      <td>NaN</td>\n",
       "      <td>['Olive Young', nan, nan, nan, nan, nan, nan, ...</td>\n",
       "      <td>NaN</td>\n",
       "    </tr>\n",
       "    <tr>\n",
       "      <th>1271</th>\n",
       "      <td>Loetoeng Kasaroeng</td>\n",
       "      <td>1926</td>\n",
       "      <td>NaN</td>\n",
       "      <td>Fantasy</td>\n",
       "      <td>NaN</td>\n",
       "      <td>7.2</td>\n",
       "      <td>11</td>\n",
       "      <td>Indonesian</td>\n",
       "      <td>L. Heuveldorp</td>\n",
       "      <td>['Martoana', 'Oemar', nan, nan, nan, nan, nan,...</td>\n",
       "      <td>60 min</td>\n",
       "    </tr>\n",
       "  </tbody>\n",
       "</table>\n",
       "<p>1272 rows × 11 columns</p>\n",
       "</div>"
      ],
      "text/plain": [
       "                         title  year  \\\n",
       "0          #FriendButMarried 2  2020   \n",
       "1                     4 Mantan  2020   \n",
       "2     Aku Tahu Kapan Kamu Mati  2020   \n",
       "3                  Anak Garuda  2020   \n",
       "4                    Dignitate  2020   \n",
       "...                        ...   ...   \n",
       "1267     The Tiger from Tjampa  1953   \n",
       "1268       Enam Djam di Djogja  1951   \n",
       "1269             Darah dan Doa  1950   \n",
       "1270         Resia Boroboedoer  1928   \n",
       "1271        Loetoeng Kasaroeng  1926   \n",
       "\n",
       "                                            description      genre rating  \\\n",
       "0     Ayudia (Mawar De Jongh) is not satisfied enoug...  Biography    13+   \n",
       "1     Sara, Airin, Rachel, and Amara were accidental...   Thriller    17+   \n",
       "2     After apparent death, Siena is able to see sig...     Horror    13+   \n",
       "3     Good Morning Indonesia, a school for poor orph...  Adventure    13+   \n",
       "4     Alfi (Al Ghazali) meets Alana (Caitlin Halderm...      Drama    17+   \n",
       "...                                                 ...        ...    ...   \n",
       "1267  Set in the 1930s, and narrated like a ballad f...      Drama    NaN   \n",
       "1268  Depicting the celebrated recapture of the town...      Drama    NaN   \n",
       "1269  It tells the story of an Indonesian revolution...      Drama    NaN   \n",
       "1270                                                NaN  Adventure    NaN   \n",
       "1271                                                NaN    Fantasy    NaN   \n",
       "\n",
       "      users_rating votes   languages          directors  \\\n",
       "0              6.5   120  Indonesian      Rako Prijanto   \n",
       "1              6.4     8  Indonesian      Hanny Saputra   \n",
       "2              5.4    17  Indonesian  Hadrah Daeng Ratu   \n",
       "3              9.1    27  Indonesian       Faozan Rizal   \n",
       "4              7.6    33  Indonesian       Fajar Nugros   \n",
       "...            ...   ...         ...                ...   \n",
       "1267           6.4    30  Indonesian     D. Djajakusuma   \n",
       "1268           6.3     9  Indonesian       Usmar Ismail   \n",
       "1269           6.6    27  Indonesian       Usmar Ismail   \n",
       "1270           7.0     8  Indonesian                NaN   \n",
       "1271           7.2    11  Indonesian      L. Heuveldorp   \n",
       "\n",
       "                                                 actors  runtime  \n",
       "0     ['Adipati Dolken', 'Mawar Eva de Jongh', 'Vonn...  100 min  \n",
       "1     ['Ranty Maria', 'Jeff Smith', 'Melanie Berentz...   80 min  \n",
       "2     ['Natasha Wilona', 'Ria Ricis', 'Al Ghazali', ...   92 min  \n",
       "3     ['Tissa Biani Azzahra', 'Violla Georgie', 'Aji...  129 min  \n",
       "4     ['Al Ghazali', 'Caitlin Halderman', 'Giorgino ...  109 min  \n",
       "...                                                 ...      ...  \n",
       "1267  ['Wahid Chan', 'Bambang Hermanto', 'R.D. Ismai...   97 min  \n",
       "1268  ['R.D. Ismail', 'Del Juzar', 'Aedy Moward', 'A...  116 min  \n",
       "1269  ['Ella Bergen', 'Faridah', 'R.D. Ismail', 'Del...  150 min  \n",
       "1270  ['Olive Young', nan, nan, nan, nan, nan, nan, ...      NaN  \n",
       "1271  ['Martoana', 'Oemar', nan, nan, nan, nan, nan,...   60 min  \n",
       "\n",
       "[1272 rows x 11 columns]"
      ]
     },
     "execution_count": 32,
     "metadata": {},
     "output_type": "execute_result"
    }
   ],
   "source": [
    "df = pd.read_csv('indonesian_movies.csv')\n",
    "df"
   ]
  },
  {
   "cell_type": "markdown",
   "id": "a028140a",
   "metadata": {},
   "source": [
    "# Data Preparation"
   ]
  },
  {
   "cell_type": "code",
   "execution_count": 33,
   "id": "ae1ac823",
   "metadata": {},
   "outputs": [
    {
     "name": "stdout",
     "output_type": "stream",
     "text": [
      "Dataset Information: \n",
      "\n",
      "<class 'pandas.core.frame.DataFrame'>\n",
      "RangeIndex: 1272 entries, 0 to 1271\n",
      "Data columns (total 11 columns):\n",
      " #   Column        Non-Null Count  Dtype  \n",
      "---  ------        --------------  -----  \n",
      " 0   title         1272 non-null   object \n",
      " 1   year          1272 non-null   int64  \n",
      " 2   description   840 non-null    object \n",
      " 3   genre         1236 non-null   object \n",
      " 4   rating        376 non-null    object \n",
      " 5   users_rating  1272 non-null   float64\n",
      " 6   votes         1272 non-null   object \n",
      " 7   languages     1272 non-null   object \n",
      " 8   directors     1265 non-null   object \n",
      " 9   actors        1272 non-null   object \n",
      " 10  runtime       869 non-null    object \n",
      "dtypes: float64(1), int64(1), object(9)\n",
      "memory usage: 109.4+ KB\n",
      "None\n"
     ]
    }
   ],
   "source": [
    "# cek tipe data dari setiap kolom\n",
    "print('Dataset Information: \\n')\n",
    "print(df.info())"
   ]
  },
  {
   "cell_type": "markdown",
   "id": "8beaa0e1",
   "metadata": {},
   "source": [
    "##### Kolom yang akan digunakan yaitu : year , genre , user_rating"
   ]
  },
  {
   "cell_type": "code",
   "execution_count": 34,
   "id": "119375f5",
   "metadata": {},
   "outputs": [
    {
     "name": "stdout",
     "output_type": "stream",
     "text": [
      "rating          896\n",
      "description     432\n",
      "runtime         403\n",
      "genre            36\n",
      "directors         7\n",
      "title             0\n",
      "year              0\n",
      "users_rating      0\n",
      "votes             0\n",
      "languages         0\n",
      "actors            0\n",
      "dtype: int64\n"
     ]
    }
   ],
   "source": [
    "# Cek missing value dan zeros\n",
    "print(df.isnull().sum().sort_values(ascending=False))"
   ]
  },
  {
   "cell_type": "code",
   "execution_count": 35,
   "id": "25c28f66",
   "metadata": {},
   "outputs": [],
   "source": [
    "df = df.copy(deep=True)"
   ]
  },
  {
   "cell_type": "code",
   "execution_count": 36,
   "id": "142c7e59",
   "metadata": {},
   "outputs": [
    {
     "data": {
      "text/html": [
       "<div>\n",
       "<style scoped>\n",
       "    .dataframe tbody tr th:only-of-type {\n",
       "        vertical-align: middle;\n",
       "    }\n",
       "\n",
       "    .dataframe tbody tr th {\n",
       "        vertical-align: top;\n",
       "    }\n",
       "\n",
       "    .dataframe thead th {\n",
       "        text-align: right;\n",
       "    }\n",
       "</style>\n",
       "<table border=\"1\" class=\"dataframe\">\n",
       "  <thead>\n",
       "    <tr style=\"text-align: right;\">\n",
       "      <th></th>\n",
       "      <th>title</th>\n",
       "      <th>year</th>\n",
       "      <th>description</th>\n",
       "      <th>genre</th>\n",
       "      <th>rating</th>\n",
       "      <th>users_rating</th>\n",
       "      <th>votes</th>\n",
       "      <th>languages</th>\n",
       "      <th>directors</th>\n",
       "      <th>actors</th>\n",
       "      <th>runtime</th>\n",
       "    </tr>\n",
       "  </thead>\n",
       "  <tbody>\n",
       "    <tr>\n",
       "      <th>0</th>\n",
       "      <td>#FriendButMarried 2</td>\n",
       "      <td>2020</td>\n",
       "      <td>Ayudia (Mawar De Jongh) is not satisfied enoug...</td>\n",
       "      <td>Biography</td>\n",
       "      <td>13+</td>\n",
       "      <td>6.5</td>\n",
       "      <td>120</td>\n",
       "      <td>Indonesian</td>\n",
       "      <td>Rako Prijanto</td>\n",
       "      <td>['Adipati Dolken', 'Mawar Eva de Jongh', 'Vonn...</td>\n",
       "      <td>100 min</td>\n",
       "    </tr>\n",
       "    <tr>\n",
       "      <th>1</th>\n",
       "      <td>4 Mantan</td>\n",
       "      <td>2020</td>\n",
       "      <td>Sara, Airin, Rachel, and Amara were accidental...</td>\n",
       "      <td>Thriller</td>\n",
       "      <td>17+</td>\n",
       "      <td>6.4</td>\n",
       "      <td>8</td>\n",
       "      <td>Indonesian</td>\n",
       "      <td>Hanny Saputra</td>\n",
       "      <td>['Ranty Maria', 'Jeff Smith', 'Melanie Berentz...</td>\n",
       "      <td>80 min</td>\n",
       "    </tr>\n",
       "    <tr>\n",
       "      <th>2</th>\n",
       "      <td>Aku Tahu Kapan Kamu Mati</td>\n",
       "      <td>2020</td>\n",
       "      <td>After apparent death, Siena is able to see sig...</td>\n",
       "      <td>Horror</td>\n",
       "      <td>13+</td>\n",
       "      <td>5.4</td>\n",
       "      <td>17</td>\n",
       "      <td>Indonesian</td>\n",
       "      <td>Hadrah Daeng Ratu</td>\n",
       "      <td>['Natasha Wilona', 'Ria Ricis', 'Al Ghazali', ...</td>\n",
       "      <td>92 min</td>\n",
       "    </tr>\n",
       "    <tr>\n",
       "      <th>3</th>\n",
       "      <td>Anak Garuda</td>\n",
       "      <td>2020</td>\n",
       "      <td>Good Morning Indonesia, a school for poor orph...</td>\n",
       "      <td>Adventure</td>\n",
       "      <td>13+</td>\n",
       "      <td>9.1</td>\n",
       "      <td>27</td>\n",
       "      <td>Indonesian</td>\n",
       "      <td>Faozan Rizal</td>\n",
       "      <td>['Tissa Biani Azzahra', 'Violla Georgie', 'Aji...</td>\n",
       "      <td>129 min</td>\n",
       "    </tr>\n",
       "    <tr>\n",
       "      <th>4</th>\n",
       "      <td>Dignitate</td>\n",
       "      <td>2020</td>\n",
       "      <td>Alfi (Al Ghazali) meets Alana (Caitlin Halderm...</td>\n",
       "      <td>Drama</td>\n",
       "      <td>17+</td>\n",
       "      <td>7.6</td>\n",
       "      <td>33</td>\n",
       "      <td>Indonesian</td>\n",
       "      <td>Fajar Nugros</td>\n",
       "      <td>['Al Ghazali', 'Caitlin Halderman', 'Giorgino ...</td>\n",
       "      <td>109 min</td>\n",
       "    </tr>\n",
       "  </tbody>\n",
       "</table>\n",
       "</div>"
      ],
      "text/plain": [
       "                      title  year  \\\n",
       "0       #FriendButMarried 2  2020   \n",
       "1                  4 Mantan  2020   \n",
       "2  Aku Tahu Kapan Kamu Mati  2020   \n",
       "3               Anak Garuda  2020   \n",
       "4                 Dignitate  2020   \n",
       "\n",
       "                                         description      genre rating  \\\n",
       "0  Ayudia (Mawar De Jongh) is not satisfied enoug...  Biography    13+   \n",
       "1  Sara, Airin, Rachel, and Amara were accidental...   Thriller    17+   \n",
       "2  After apparent death, Siena is able to see sig...     Horror    13+   \n",
       "3  Good Morning Indonesia, a school for poor orph...  Adventure    13+   \n",
       "4  Alfi (Al Ghazali) meets Alana (Caitlin Halderm...      Drama    17+   \n",
       "\n",
       "   users_rating votes   languages          directors  \\\n",
       "0           6.5   120  Indonesian      Rako Prijanto   \n",
       "1           6.4     8  Indonesian      Hanny Saputra   \n",
       "2           5.4    17  Indonesian  Hadrah Daeng Ratu   \n",
       "3           9.1    27  Indonesian       Faozan Rizal   \n",
       "4           7.6    33  Indonesian       Fajar Nugros   \n",
       "\n",
       "                                              actors  runtime  \n",
       "0  ['Adipati Dolken', 'Mawar Eva de Jongh', 'Vonn...  100 min  \n",
       "1  ['Ranty Maria', 'Jeff Smith', 'Melanie Berentz...   80 min  \n",
       "2  ['Natasha Wilona', 'Ria Ricis', 'Al Ghazali', ...   92 min  \n",
       "3  ['Tissa Biani Azzahra', 'Violla Georgie', 'Aji...  129 min  \n",
       "4  ['Al Ghazali', 'Caitlin Halderman', 'Giorgino ...  109 min  "
      ]
     },
     "execution_count": 36,
     "metadata": {},
     "output_type": "execute_result"
    }
   ],
   "source": [
    "df = df.dropna(axis='rows')\n",
    "df.head()"
   ]
  },
  {
   "cell_type": "code",
   "execution_count": 37,
   "id": "8071beaa",
   "metadata": {},
   "outputs": [
    {
     "name": "stdout",
     "output_type": "stream",
     "text": [
      "title           0\n",
      "year            0\n",
      "description     0\n",
      "genre           0\n",
      "rating          0\n",
      "users_rating    0\n",
      "votes           0\n",
      "languages       0\n",
      "directors       0\n",
      "actors          0\n",
      "runtime         0\n",
      "dtype: int64\n"
     ]
    }
   ],
   "source": [
    "print(df.isnull().sum().sort_values(ascending=False))"
   ]
  },
  {
   "cell_type": "markdown",
   "id": "9342945a",
   "metadata": {},
   "source": [
    "dalam hal ini row yang terdapat missing value sudah tidak ada"
   ]
  },
  {
   "cell_type": "markdown",
   "id": "8a6b26e1",
   "metadata": {},
   "source": [
    "# Dalam informasi dataset di atas bahwa genre bertype object dan user_rating bertype float\n",
    "Metode apriori dalam market basket analysis nantinya akan error, maka kita akan ubah dengan type string dan type integer"
   ]
  },
  {
   "cell_type": "code",
   "execution_count": 38,
   "id": "58caedbc",
   "metadata": {},
   "outputs": [],
   "source": [
    "df['users_rating'] = df['users_rating'].astype(int)"
   ]
  },
  {
   "cell_type": "code",
   "execution_count": 39,
   "id": "4f4c75b1",
   "metadata": {},
   "outputs": [],
   "source": [
    "df['genre'] = df['genre'].astype(str)"
   ]
  },
  {
   "cell_type": "code",
   "execution_count": 42,
   "id": "28b1ac58",
   "metadata": {},
   "outputs": [
    {
     "name": "stdout",
     "output_type": "stream",
     "text": [
      "Dataset Information: \n",
      "\n",
      "<class 'pandas.core.frame.DataFrame'>\n",
      "Int64Index: 286 entries, 0 to 1222\n",
      "Data columns (total 11 columns):\n",
      " #   Column        Non-Null Count  Dtype \n",
      "---  ------        --------------  ----- \n",
      " 0   title         286 non-null    object\n",
      " 1   year          286 non-null    int64 \n",
      " 2   description   286 non-null    object\n",
      " 3   genre         286 non-null    object\n",
      " 4   rating        286 non-null    object\n",
      " 5   users_rating  286 non-null    int32 \n",
      " 6   votes         286 non-null    object\n",
      " 7   languages     286 non-null    object\n",
      " 8   directors     286 non-null    object\n",
      " 9   actors        286 non-null    object\n",
      " 10  runtime       286 non-null    object\n",
      "dtypes: int32(1), int64(1), object(9)\n",
      "memory usage: 25.7+ KB\n",
      "None\n"
     ]
    }
   ],
   "source": [
    "print('Dataset Information: \\n')\n",
    "print(df.info())"
   ]
  },
  {
   "cell_type": "markdown",
   "id": "0f6075a1",
   "metadata": {},
   "source": [
    "## Jika semua sudah aman kita akan drop column yang tidak diperlukan"
   ]
  },
  {
   "cell_type": "code",
   "execution_count": 43,
   "id": "1862c94e",
   "metadata": {},
   "outputs": [],
   "source": [
    "columns = ['title','description','rating','votes','languages','directors','actors','runtime']\n",
    "df.drop(columns, inplace=True, axis=1)"
   ]
  },
  {
   "cell_type": "code",
   "execution_count": 44,
   "id": "c454789a",
   "metadata": {},
   "outputs": [
    {
     "name": "stdout",
     "output_type": "stream",
     "text": [
      "Dataset Information: \n",
      "\n",
      "<class 'pandas.core.frame.DataFrame'>\n",
      "Int64Index: 286 entries, 0 to 1222\n",
      "Data columns (total 3 columns):\n",
      " #   Column        Non-Null Count  Dtype \n",
      "---  ------        --------------  ----- \n",
      " 0   year          286 non-null    int64 \n",
      " 1   genre         286 non-null    object\n",
      " 2   users_rating  286 non-null    int32 \n",
      "dtypes: int32(1), int64(1), object(1)\n",
      "memory usage: 7.8+ KB\n",
      "None\n"
     ]
    }
   ],
   "source": [
    "print('Dataset Information: \\n')\n",
    "print(df.info())"
   ]
  },
  {
   "cell_type": "markdown",
   "id": "b1f10d74",
   "metadata": {},
   "source": [
    "# Visualisasi dan Memahami data"
   ]
  },
  {
   "cell_type": "code",
   "execution_count": 45,
   "id": "d8de67a6",
   "metadata": {},
   "outputs": [
    {
     "name": "stdout",
     "output_type": "stream",
     "text": [
      "Biggest Rate Genre film: \n",
      "\n",
      "Drama        96\n",
      "Horror       68\n",
      "Comedy       56\n",
      "Action       33\n",
      "Adventure    18\n",
      "Biography     8\n",
      "Crime         3\n",
      "Thriller      1\n",
      "Animation     1\n",
      "History       1\n",
      "Romance       1\n",
      "Name: genre, dtype: int64\n"
     ]
    }
   ],
   "source": [
    "most_rate = df['genre'].value_counts().head(20)\n",
    "\n",
    "print('Biggest Rate Genre film: \\n')\n",
    "print(most_rate)"
   ]
  },
  {
   "cell_type": "code",
   "execution_count": 46,
   "id": "c3989923",
   "metadata": {},
   "outputs": [
    {
     "data": {
      "text/html": [
       "<div>\n",
       "<style scoped>\n",
       "    .dataframe tbody tr th:only-of-type {\n",
       "        vertical-align: middle;\n",
       "    }\n",
       "\n",
       "    .dataframe tbody tr th {\n",
       "        vertical-align: top;\n",
       "    }\n",
       "\n",
       "    .dataframe thead th {\n",
       "        text-align: right;\n",
       "    }\n",
       "</style>\n",
       "<table border=\"1\" class=\"dataframe\">\n",
       "  <thead>\n",
       "    <tr style=\"text-align: right;\">\n",
       "      <th></th>\n",
       "      <th>users_rating</th>\n",
       "    </tr>\n",
       "    <tr>\n",
       "      <th>genre</th>\n",
       "      <th></th>\n",
       "    </tr>\n",
       "  </thead>\n",
       "  <tbody>\n",
       "    <tr>\n",
       "      <th>Drama</th>\n",
       "      <td>33.566434</td>\n",
       "    </tr>\n",
       "    <tr>\n",
       "      <th>Horror</th>\n",
       "      <td>23.776224</td>\n",
       "    </tr>\n",
       "    <tr>\n",
       "      <th>Comedy</th>\n",
       "      <td>19.580420</td>\n",
       "    </tr>\n",
       "    <tr>\n",
       "      <th>Action</th>\n",
       "      <td>11.538462</td>\n",
       "    </tr>\n",
       "    <tr>\n",
       "      <th>Adventure</th>\n",
       "      <td>6.293706</td>\n",
       "    </tr>\n",
       "  </tbody>\n",
       "</table>\n",
       "</div>"
      ],
      "text/plain": [
       "           users_rating\n",
       "genre                  \n",
       "Drama         33.566434\n",
       "Horror        23.776224\n",
       "Comedy        19.580420\n",
       "Action        11.538462\n",
       "Adventure      6.293706"
      ]
     },
     "execution_count": 46,
     "metadata": {},
     "output_type": "execute_result"
    }
   ],
   "source": [
    "#presentase dari rating tiap genre\n",
    "rating_count = df.groupby(by='genre')[['users_rating']].count().sort_values(by='users_rating', ascending=False)\n",
    "def convert_to_percentage(x):\n",
    "    return 100 * x / float(x.sum())\n",
    "\n",
    "rating_percentage = rating_count.apply(convert_to_percentage)\n",
    "rating_percentage.head()"
   ]
  },
  {
   "cell_type": "code",
   "execution_count": 48,
   "id": "b771e0d0",
   "metadata": {},
   "outputs": [
    {
     "data": {
      "text/plain": [
       "Text(0.5, 1.0, 'Items Most Rate')"
      ]
     },
     "execution_count": 48,
     "metadata": {},
     "output_type": "execute_result"
    },
    {
     "data": {
      "image/png": "[encoded data removed]",
      "text/plain": [
       "<Figure size 1440x432 with 2 Axes>"
      ]
     },
     "metadata": {
      "needs_background": "light"
     },
     "output_type": "display_data"
    }
   ],
   "source": [
    "# visualisasikan data rating terbanyak ke line chart dan bar chart\n",
    "plt.figure(figsize=(20,6))\n",
    "\n",
    "plt.subplot(1,2,1)\n",
    "#plt.plot(most_rate)\n",
    "most_rate.plot(kind='line')\n",
    "plt.title('Items Most Rate')\n",
    "\n",
    "plt.subplot(1,2,2)\n",
    "most_rate.plot(kind='bar')\n",
    "plt.title('Items Most Rate')"
   ]
  },
  {
   "cell_type": "code",
   "execution_count": 51,
   "id": "4120ebaf",
   "metadata": {},
   "outputs": [
    {
     "data": {
      "image/png": "[encoded data removed]",
      "text/plain": [
       "<Figure size 432x288 with 1 Axes>"
      ]
     },
     "metadata": {
      "needs_background": "light"
     },
     "output_type": "display_data"
    }
   ],
   "source": [
    "df.groupby('year')['users_rating'].nunique().plot(kind='bar', title='Tahun dari Genre')\n",
    "plt.show()"
   ]
  },
  {
   "cell_type": "code",
   "execution_count": null,
   "id": "b2f2daa4",
   "metadata": {},
   "outputs": [],
   "source": []
  }
 ],
 "metadata": {
  "kernelspec": {
   "display_name": "Python 3 (ipykernel)",
   "language": "python",
   "name": "python3"
  },
  "language_info": {
   "codemirror_mode": {
    "name": "ipython",
    "version": 3
   },
   "file_extension": ".py",
   "mimetype": "text/x-python",
   "name": "python",
   "nbconvert_exporter": "python",
   "pygments_lexer": "ipython3",
   "version": "3.8.8"
  }
 },
 "nbformat": 4,
 "nbformat_minor": 5
}
