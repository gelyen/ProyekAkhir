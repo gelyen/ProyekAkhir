{
  "cells": [
    {
      "cell_type": "markdown",
      "id": "a000b84a",
      "metadata": {
        "id": "a000b84a"
      },
      "source": [
        "# Import Library"
      ]
    },
    {
      "cell_type": "code",
      "source": [
        "from google.colab import drive\n",
        "drive.mount('/content/drive')"
      ],
      "metadata": {
        "colab": {
          "base_uri": "https://localhost:8080/"
        },
        "id": "saTUUQ4JlXRp",
        "outputId": "6135caf7-5e22-48e9-bf47-ea571877fa2c"
      },
      "id": "saTUUQ4JlXRp",
      "execution_count": 1,
      "outputs": [
        {
          "output_type": "stream",
          "name": "stdout",
          "text": [
            "Mounted at /content/drive\n"
          ]
        }
      ]
    },
    {
      "cell_type": "code",
      "execution_count": 3,
      "id": "081f9b97",
      "metadata": {
        "id": "081f9b97"
      },
      "outputs": [],
      "source": [
        "import pandas as pd\n",
        "import numpy as np\n",
        "import seaborn as sns\n",
        "import matplotlib.pyplot as plt\n",
        "%matplotlib inline"
      ]
    },
    {
      "cell_type": "code",
      "execution_count": 4,
      "id": "fd1df5eb",
      "metadata": {
        "colab": {
          "base_uri": "https://localhost:8080/",
          "height": 423
        },
        "id": "fd1df5eb",
        "outputId": "80b62fc8-b67e-4db0-828f-b764cdedcd39"
      },
      "outputs": [
        {
          "output_type": "execute_result",
          "data": {
            "text/plain": [
              "                         title  year  \\\n",
              "0          #FriendButMarried 2  2020   \n",
              "1                     4 Mantan  2020   \n",
              "2     Aku Tahu Kapan Kamu Mati  2020   \n",
              "3                  Anak Garuda  2020   \n",
              "4                    Dignitate  2020   \n",
              "...                        ...   ...   \n",
              "1267     The Tiger from Tjampa  1953   \n",
              "1268       Enam Djam di Djogja  1951   \n",
              "1269             Darah dan Doa  1950   \n",
              "1270         Resia Boroboedoer  1928   \n",
              "1271        Loetoeng Kasaroeng  1926   \n",
              "\n",
              "                                            description      genre rating  \\\n",
              "0     Ayudia (Mawar De Jongh) is not satisfied enoug...  Biography    13+   \n",
              "1     Sara, Airin, Rachel, and Amara were accidental...   Thriller    17+   \n",
              "2     After apparent death, Siena is able to see sig...     Horror    13+   \n",
              "3     Good Morning Indonesia, a school for poor orph...  Adventure    13+   \n",
              "4     Alfi (Al Ghazali) meets Alana (Caitlin Halderm...      Drama    17+   \n",
              "...                                                 ...        ...    ...   \n",
              "1267  Set in the 1930s, and narrated like a ballad f...      Drama    NaN   \n",
              "1268  Depicting the celebrated recapture of the town...      Drama    NaN   \n",
              "1269  It tells the story of an Indonesian revolution...      Drama    NaN   \n",
              "1270                                                NaN  Adventure    NaN   \n",
              "1271                                                NaN    Fantasy    NaN   \n",
              "\n",
              "      users_rating votes   languages          directors  \\\n",
              "0              6.5   120  Indonesian      Rako Prijanto   \n",
              "1              6.4     8  Indonesian      Hanny Saputra   \n",
              "2              5.4    17  Indonesian  Hadrah Daeng Ratu   \n",
              "3              9.1    27  Indonesian       Faozan Rizal   \n",
              "4              7.6    33  Indonesian       Fajar Nugros   \n",
              "...            ...   ...         ...                ...   \n",
              "1267           6.4    30  Indonesian     D. Djajakusuma   \n",
              "1268           6.3     9  Indonesian       Usmar Ismail   \n",
              "1269           6.6    27  Indonesian       Usmar Ismail   \n",
              "1270           7.0     8  Indonesian                NaN   \n",
              "1271           7.2    11  Indonesian      L. Heuveldorp   \n",
              "\n",
              "                                                 actors  runtime  \n",
              "0     ['Adipati Dolken', 'Mawar Eva de Jongh', 'Vonn...  100 min  \n",
              "1     ['Ranty Maria', 'Jeff Smith', 'Melanie Berentz...   80 min  \n",
              "2     ['Natasha Wilona', 'Ria Ricis', 'Al Ghazali', ...   92 min  \n",
              "3     ['Tissa Biani Azzahra', 'Violla Georgie', 'Aji...  129 min  \n",
              "4     ['Al Ghazali', 'Caitlin Halderman', 'Giorgino ...  109 min  \n",
              "...                                                 ...      ...  \n",
              "1267  ['Wahid Chan', 'Bambang Hermanto', 'R.D. Ismai...   97 min  \n",
              "1268  ['R.D. Ismail', 'Del Juzar', 'Aedy Moward', 'A...  116 min  \n",
              "1269  ['Ella Bergen', 'Faridah', 'R.D. Ismail', 'Del...  150 min  \n",
              "1270  ['Olive Young', nan, nan, nan, nan, nan, nan, ...      NaN  \n",
              "1271  ['Martoana', 'Oemar', nan, nan, nan, nan, nan,...   60 min  \n",
              "\n",
              "[1272 rows x 11 columns]"
            ],
            "text/html": [
              "\n",
              "  <div id=\"df-8f79ccba-eb6d-4812-8b73-a92c472f7f5c\">\n",
              "    <div class=\"colab-df-container\">\n",
              "      <div>\n",
              "<style scoped>\n",
              "    .dataframe tbody tr th:only-of-type {\n",
              "        vertical-align: middle;\n",
              "    }\n",
              "\n",
              "    .dataframe tbody tr th {\n",
              "        vertical-align: top;\n",
              "    }\n",
              "\n",
              "    .dataframe thead th {\n",
              "        text-align: right;\n",
              "    }\n",
              "</style>\n",
              "<table border=\"1\" class=\"dataframe\">\n",
              "  <thead>\n",
              "    <tr style=\"text-align: right;\">\n",
              "      <th></th>\n",
              "      <th>title</th>\n",
              "      <th>year</th>\n",
              "      <th>description</th>\n",
              "      <th>genre</th>\n",
              "      <th>rating</th>\n",
              "      <th>users_rating</th>\n",
              "      <th>votes</th>\n",
              "      <th>languages</th>\n",
              "      <th>directors</th>\n",
              "      <th>actors</th>\n",
              "      <th>runtime</th>\n",
              "    </tr>\n",
              "  </thead>\n",
              "  <tbody>\n",
              "    <tr>\n",
              "      <th>0</th>\n",
              "      <td>#FriendButMarried 2</td>\n",
              "      <td>2020</td>\n",
              "      <td>Ayudia (Mawar De Jongh) is not satisfied enoug...</td>\n",
              "      <td>Biography</td>\n",
              "      <td>13+</td>\n",
              "      <td>6.5</td>\n",
              "      <td>120</td>\n",
              "      <td>Indonesian</td>\n",
              "      <td>Rako Prijanto</td>\n",
              "      <td>['Adipati Dolken', 'Mawar Eva de Jongh', 'Vonn...</td>\n",
              "      <td>100 min</td>\n",
              "    </tr>\n",
              "    <tr>\n",
              "      <th>1</th>\n",
              "      <td>4 Mantan</td>\n",
              "      <td>2020</td>\n",
              "      <td>Sara, Airin, Rachel, and Amara were accidental...</td>\n",
              "      <td>Thriller</td>\n",
              "      <td>17+</td>\n",
              "      <td>6.4</td>\n",
              "      <td>8</td>\n",
              "      <td>Indonesian</td>\n",
              "      <td>Hanny Saputra</td>\n",
              "      <td>['Ranty Maria', 'Jeff Smith', 'Melanie Berentz...</td>\n",
              "      <td>80 min</td>\n",
              "    </tr>\n",
              "    <tr>\n",
              "      <th>2</th>\n",
              "      <td>Aku Tahu Kapan Kamu Mati</td>\n",
              "      <td>2020</td>\n",
              "      <td>After apparent death, Siena is able to see sig...</td>\n",
              "      <td>Horror</td>\n",
              "      <td>13+</td>\n",
              "      <td>5.4</td>\n",
              "      <td>17</td>\n",
              "      <td>Indonesian</td>\n",
              "      <td>Hadrah Daeng Ratu</td>\n",
              "      <td>['Natasha Wilona', 'Ria Ricis', 'Al Ghazali', ...</td>\n",
              "      <td>92 min</td>\n",
              "    </tr>\n",
              "    <tr>\n",
              "      <th>3</th>\n",
              "      <td>Anak Garuda</td>\n",
              "      <td>2020</td>\n",
              "      <td>Good Morning Indonesia, a school for poor orph...</td>\n",
              "      <td>Adventure</td>\n",
              "      <td>13+</td>\n",
              "      <td>9.1</td>\n",
              "      <td>27</td>\n",
              "      <td>Indonesian</td>\n",
              "      <td>Faozan Rizal</td>\n",
              "      <td>['Tissa Biani Azzahra', 'Violla Georgie', 'Aji...</td>\n",
              "      <td>129 min</td>\n",
              "    </tr>\n",
              "    <tr>\n",
              "      <th>4</th>\n",
              "      <td>Dignitate</td>\n",
              "      <td>2020</td>\n",
              "      <td>Alfi (Al Ghazali) meets Alana (Caitlin Halderm...</td>\n",
              "      <td>Drama</td>\n",
              "      <td>17+</td>\n",
              "      <td>7.6</td>\n",
              "      <td>33</td>\n",
              "      <td>Indonesian</td>\n",
              "      <td>Fajar Nugros</td>\n",
              "      <td>['Al Ghazali', 'Caitlin Halderman', 'Giorgino ...</td>\n",
              "      <td>109 min</td>\n",
              "    </tr>\n",
              "    <tr>\n",
              "      <th>...</th>\n",
              "      <td>...</td>\n",
              "      <td>...</td>\n",
              "      <td>...</td>\n",
              "      <td>...</td>\n",
              "      <td>...</td>\n",
              "      <td>...</td>\n",
              "      <td>...</td>\n",
              "      <td>...</td>\n",
              "      <td>...</td>\n",
              "      <td>...</td>\n",
              "      <td>...</td>\n",
              "    </tr>\n",
              "    <tr>\n",
              "      <th>1267</th>\n",
              "      <td>The Tiger from Tjampa</td>\n",
              "      <td>1953</td>\n",
              "      <td>Set in the 1930s, and narrated like a ballad f...</td>\n",
              "      <td>Drama</td>\n",
              "      <td>NaN</td>\n",
              "      <td>6.4</td>\n",
              "      <td>30</td>\n",
              "      <td>Indonesian</td>\n",
              "      <td>D. Djajakusuma</td>\n",
              "      <td>['Wahid Chan', 'Bambang Hermanto', 'R.D. Ismai...</td>\n",
              "      <td>97 min</td>\n",
              "    </tr>\n",
              "    <tr>\n",
              "      <th>1268</th>\n",
              "      <td>Enam Djam di Djogja</td>\n",
              "      <td>1951</td>\n",
              "      <td>Depicting the celebrated recapture of the town...</td>\n",
              "      <td>Drama</td>\n",
              "      <td>NaN</td>\n",
              "      <td>6.3</td>\n",
              "      <td>9</td>\n",
              "      <td>Indonesian</td>\n",
              "      <td>Usmar Ismail</td>\n",
              "      <td>['R.D. Ismail', 'Del Juzar', 'Aedy Moward', 'A...</td>\n",
              "      <td>116 min</td>\n",
              "    </tr>\n",
              "    <tr>\n",
              "      <th>1269</th>\n",
              "      <td>Darah dan Doa</td>\n",
              "      <td>1950</td>\n",
              "      <td>It tells the story of an Indonesian revolution...</td>\n",
              "      <td>Drama</td>\n",
              "      <td>NaN</td>\n",
              "      <td>6.6</td>\n",
              "      <td>27</td>\n",
              "      <td>Indonesian</td>\n",
              "      <td>Usmar Ismail</td>\n",
              "      <td>['Ella Bergen', 'Faridah', 'R.D. Ismail', 'Del...</td>\n",
              "      <td>150 min</td>\n",
              "    </tr>\n",
              "    <tr>\n",
              "      <th>1270</th>\n",
              "      <td>Resia Boroboedoer</td>\n",
              "      <td>1928</td>\n",
              "      <td>NaN</td>\n",
              "      <td>Adventure</td>\n",
              "      <td>NaN</td>\n",
              "      <td>7.0</td>\n",
              "      <td>8</td>\n",
              "      <td>Indonesian</td>\n",
              "      <td>NaN</td>\n",
              "      <td>['Olive Young', nan, nan, nan, nan, nan, nan, ...</td>\n",
              "      <td>NaN</td>\n",
              "    </tr>\n",
              "    <tr>\n",
              "      <th>1271</th>\n",
              "      <td>Loetoeng Kasaroeng</td>\n",
              "      <td>1926</td>\n",
              "      <td>NaN</td>\n",
              "      <td>Fantasy</td>\n",
              "      <td>NaN</td>\n",
              "      <td>7.2</td>\n",
              "      <td>11</td>\n",
              "      <td>Indonesian</td>\n",
              "      <td>L. Heuveldorp</td>\n",
              "      <td>['Martoana', 'Oemar', nan, nan, nan, nan, nan,...</td>\n",
              "      <td>60 min</td>\n",
              "    </tr>\n",
              "  </tbody>\n",
              "</table>\n",
              "<p>1272 rows × 11 columns</p>\n",
              "</div>\n",
              "      <button class=\"colab-df-convert\" onclick=\"convertToInteractive('df-8f79ccba-eb6d-4812-8b73-a92c472f7f5c')\"\n",
              "              title=\"Convert this dataframe to an interactive table.\"\n",
              "              style=\"display:none;\">\n",
              "        \n",
              "  <svg xmlns=\"http://www.w3.org/2000/svg\" height=\"24px\"viewBox=\"0 0 24 24\"\n",
              "       width=\"24px\">\n",
              "    <path d=\"M0 0h24v24H0V0z\" fill=\"none\"/>\n",
              "    <path d=\"M18.56 5.44l.94 2.06.94-2.06 2.06-.94-2.06-.94-.94-2.06-.94 2.06-2.06.94zm-11 1L8.5 8.5l.94-2.06 2.06-.94-2.06-.94L8.5 2.5l-.94 2.06-2.06.94zm10 10l.94 2.06.94-2.06 2.06-.94-2.06-.94-.94-2.06-.94 2.06-2.06.94z\"/><path d=\"M17.41 7.96l-1.37-1.37c-.4-.4-.92-.59-1.43-.59-.52 0-1.04.2-1.43.59L10.3 9.45l-7.72 7.72c-.78.78-.78 2.05 0 2.83L4 21.41c.39.39.9.59 1.41.59.51 0 1.02-.2 1.41-.59l7.78-7.78 2.81-2.81c.8-.78.8-2.07 0-2.86zM5.41 20L4 18.59l7.72-7.72 1.47 1.35L5.41 20z\"/>\n",
              "  </svg>\n",
              "      </button>\n",
              "      \n",
              "  <style>\n",
              "    .colab-df-container {\n",
              "      display:flex;\n",
              "      flex-wrap:wrap;\n",
              "      gap: 12px;\n",
              "    }\n",
              "\n",
              "    .colab-df-convert {\n",
              "      background-color: #E8F0FE;\n",
              "      border: none;\n",
              "      border-radius: 50%;\n",
              "      cursor: pointer;\n",
              "      display: none;\n",
              "      fill: #1967D2;\n",
              "      height: 32px;\n",
              "      padding: 0 0 0 0;\n",
              "      width: 32px;\n",
              "    }\n",
              "\n",
              "    .colab-df-convert:hover {\n",
              "      background-color: #E2EBFA;\n",
              "      box-shadow: 0px 1px 2px rgba(60, 64, 67, 0.3), 0px 1px 3px 1px rgba(60, 64, 67, 0.15);\n",
              "      fill: #174EA6;\n",
              "    }\n",
              "\n",
              "    [theme=dark] .colab-df-convert {\n",
              "      background-color: #3B4455;\n",
              "      fill: #D2E3FC;\n",
              "    }\n",
              "\n",
              "    [theme=dark] .colab-df-convert:hover {\n",
              "      background-color: #434B5C;\n",
              "      box-shadow: 0px 1px 3px 1px rgba(0, 0, 0, 0.15);\n",
              "      filter: drop-shadow(0px 1px 2px rgba(0, 0, 0, 0.3));\n",
              "      fill: #FFFFFF;\n",
              "    }\n",
              "  </style>\n",
              "\n",
              "      <script>\n",
              "        const buttonEl =\n",
              "          document.querySelector('#df-8f79ccba-eb6d-4812-8b73-a92c472f7f5c button.colab-df-convert');\n",
              "        buttonEl.style.display =\n",
              "          google.colab.kernel.accessAllowed ? 'block' : 'none';\n",
              "\n",
              "        async function convertToInteractive(key) {\n",
              "          const element = document.querySelector('#df-8f79ccba-eb6d-4812-8b73-a92c472f7f5c');\n",
              "          const dataTable =\n",
              "            await google.colab.kernel.invokeFunction('convertToInteractive',\n",
              "                                                     [key], {});\n",
              "          if (!dataTable) return;\n",
              "\n",
              "          const docLinkHtml = 'Like what you see? Visit the ' +\n",
              "            '<a target=\"_blank\" href=https://colab.research.google.com/notebooks/data_table.ipynb>data table notebook</a>'\n",
              "            + ' to learn more about interactive tables.';\n",
              "          element.innerHTML = '';\n",
              "          dataTable['output_type'] = 'display_data';\n",
              "          await google.colab.output.renderOutput(dataTable, element);\n",
              "          const docLink = document.createElement('div');\n",
              "          docLink.innerHTML = docLinkHtml;\n",
              "          element.appendChild(docLink);\n",
              "        }\n",
              "      </script>\n",
              "    </div>\n",
              "  </div>\n",
              "  "
            ]
          },
          "metadata": {},
          "execution_count": 4
        }
      ],
      "source": [
        "df = pd.read_csv('/content/drive/MyDrive/pakhir/indonesian_movies.csv')\n",
        "df"
      ]
    },
    {
      "cell_type": "markdown",
      "id": "a028140a",
      "metadata": {
        "id": "a028140a"
      },
      "source": [
        "# Data Preparation"
      ]
    },
    {
      "cell_type": "code",
      "execution_count": 5,
      "id": "ae1ac823",
      "metadata": {
        "colab": {
          "base_uri": "https://localhost:8080/"
        },
        "id": "ae1ac823",
        "outputId": "8a86a5cf-0dab-4d94-b1e0-cf44669a8077"
      },
      "outputs": [
        {
          "output_type": "stream",
          "name": "stdout",
          "text": [
            "Dataset Information: \n",
            "\n",
            "<class 'pandas.core.frame.DataFrame'>\n",
            "RangeIndex: 1272 entries, 0 to 1271\n",
            "Data columns (total 11 columns):\n",
            " #   Column        Non-Null Count  Dtype  \n",
            "---  ------        --------------  -----  \n",
            " 0   title         1272 non-null   object \n",
            " 1   year          1272 non-null   int64  \n",
            " 2   description   840 non-null    object \n",
            " 3   genre         1236 non-null   object \n",
            " 4   rating        376 non-null    object \n",
            " 5   users_rating  1272 non-null   float64\n",
            " 6   votes         1272 non-null   object \n",
            " 7   languages     1272 non-null   object \n",
            " 8   directors     1265 non-null   object \n",
            " 9   actors        1272 non-null   object \n",
            " 10  runtime       869 non-null    object \n",
            "dtypes: float64(1), int64(1), object(9)\n",
            "memory usage: 109.4+ KB\n",
            "None\n"
          ]
        }
      ],
      "source": [
        "# cek tipe data dari setiap kolom\n",
        "print('Dataset Information: \\n')\n",
        "print(df.info())"
      ]
    },
    {
      "cell_type": "markdown",
      "id": "8beaa0e1",
      "metadata": {
        "id": "8beaa0e1"
      },
      "source": [
        "##### Kolom yang akan digunakan yaitu : year , genre , user_rating"
      ]
    },
    {
      "cell_type": "code",
      "execution_count": 6,
      "id": "119375f5",
      "metadata": {
        "colab": {
          "base_uri": "https://localhost:8080/"
        },
        "id": "119375f5",
        "outputId": "287acd71-44f7-4cb6-a391-531aa0fe5336"
      },
      "outputs": [
        {
          "output_type": "stream",
          "name": "stdout",
          "text": [
            "rating          896\n",
            "description     432\n",
            "runtime         403\n",
            "genre            36\n",
            "directors         7\n",
            "title             0\n",
            "year              0\n",
            "users_rating      0\n",
            "votes             0\n",
            "languages         0\n",
            "actors            0\n",
            "dtype: int64\n"
          ]
        }
      ],
      "source": [
        "# Cek missing value dan zeros\n",
        "print(df.isnull().sum().sort_values(ascending=False))"
      ]
    },
    {
      "cell_type": "code",
      "execution_count": 7,
      "id": "25c28f66",
      "metadata": {
        "id": "25c28f66"
      },
      "outputs": [],
      "source": [
        "df = df.copy(deep=True)"
      ]
    },
    {
      "cell_type": "code",
      "execution_count": 8,
      "id": "142c7e59",
      "metadata": {
        "colab": {
          "base_uri": "https://localhost:8080/",
          "height": 206
        },
        "id": "142c7e59",
        "outputId": "e42661b6-33a0-4ce9-b81d-62b9efc28c8c"
      },
      "outputs": [
        {
          "output_type": "execute_result",
          "data": {
            "text/plain": [
              "                      title  year  \\\n",
              "0       #FriendButMarried 2  2020   \n",
              "1                  4 Mantan  2020   \n",
              "2  Aku Tahu Kapan Kamu Mati  2020   \n",
              "3               Anak Garuda  2020   \n",
              "4                 Dignitate  2020   \n",
              "\n",
              "                                         description      genre rating  \\\n",
              "0  Ayudia (Mawar De Jongh) is not satisfied enoug...  Biography    13+   \n",
              "1  Sara, Airin, Rachel, and Amara were accidental...   Thriller    17+   \n",
              "2  After apparent death, Siena is able to see sig...     Horror    13+   \n",
              "3  Good Morning Indonesia, a school for poor orph...  Adventure    13+   \n",
              "4  Alfi (Al Ghazali) meets Alana (Caitlin Halderm...      Drama    17+   \n",
              "\n",
              "   users_rating votes   languages          directors  \\\n",
              "0           6.5   120  Indonesian      Rako Prijanto   \n",
              "1           6.4     8  Indonesian      Hanny Saputra   \n",
              "2           5.4    17  Indonesian  Hadrah Daeng Ratu   \n",
              "3           9.1    27  Indonesian       Faozan Rizal   \n",
              "4           7.6    33  Indonesian       Fajar Nugros   \n",
              "\n",
              "                                              actors  runtime  \n",
              "0  ['Adipati Dolken', 'Mawar Eva de Jongh', 'Vonn...  100 min  \n",
              "1  ['Ranty Maria', 'Jeff Smith', 'Melanie Berentz...   80 min  \n",
              "2  ['Natasha Wilona', 'Ria Ricis', 'Al Ghazali', ...   92 min  \n",
              "3  ['Tissa Biani Azzahra', 'Violla Georgie', 'Aji...  129 min  \n",
              "4  ['Al Ghazali', 'Caitlin Halderman', 'Giorgino ...  109 min  "
            ],
            "text/html": [
              "\n",
              "  <div id=\"df-1e14ec8b-8713-40ca-ae07-59f2c8ec9b28\">\n",
              "    <div class=\"colab-df-container\">\n",
              "      <div>\n",
              "<style scoped>\n",
              "    .dataframe tbody tr th:only-of-type {\n",
              "        vertical-align: middle;\n",
              "    }\n",
              "\n",
              "    .dataframe tbody tr th {\n",
              "        vertical-align: top;\n",
              "    }\n",
              "\n",
              "    .dataframe thead th {\n",
              "        text-align: right;\n",
              "    }\n",
              "</style>\n",
              "<table border=\"1\" class=\"dataframe\">\n",
              "  <thead>\n",
              "    <tr style=\"text-align: right;\">\n",
              "      <th></th>\n",
              "      <th>title</th>\n",
              "      <th>year</th>\n",
              "      <th>description</th>\n",
              "      <th>genre</th>\n",
              "      <th>rating</th>\n",
              "      <th>users_rating</th>\n",
              "      <th>votes</th>\n",
              "      <th>languages</th>\n",
              "      <th>directors</th>\n",
              "      <th>actors</th>\n",
              "      <th>runtime</th>\n",
              "    </tr>\n",
              "  </thead>\n",
              "  <tbody>\n",
              "    <tr>\n",
              "      <th>0</th>\n",
              "      <td>#FriendButMarried 2</td>\n",
              "      <td>2020</td>\n",
              "      <td>Ayudia (Mawar De Jongh) is not satisfied enoug...</td>\n",
              "      <td>Biography</td>\n",
              "      <td>13+</td>\n",
              "      <td>6.5</td>\n",
              "      <td>120</td>\n",
              "      <td>Indonesian</td>\n",
              "      <td>Rako Prijanto</td>\n",
              "      <td>['Adipati Dolken', 'Mawar Eva de Jongh', 'Vonn...</td>\n",
              "      <td>100 min</td>\n",
              "    </tr>\n",
              "    <tr>\n",
              "      <th>1</th>\n",
              "      <td>4 Mantan</td>\n",
              "      <td>2020</td>\n",
              "      <td>Sara, Airin, Rachel, and Amara were accidental...</td>\n",
              "      <td>Thriller</td>\n",
              "      <td>17+</td>\n",
              "      <td>6.4</td>\n",
              "      <td>8</td>\n",
              "      <td>Indonesian</td>\n",
              "      <td>Hanny Saputra</td>\n",
              "      <td>['Ranty Maria', 'Jeff Smith', 'Melanie Berentz...</td>\n",
              "      <td>80 min</td>\n",
              "    </tr>\n",
              "    <tr>\n",
              "      <th>2</th>\n",
              "      <td>Aku Tahu Kapan Kamu Mati</td>\n",
              "      <td>2020</td>\n",
              "      <td>After apparent death, Siena is able to see sig...</td>\n",
              "      <td>Horror</td>\n",
              "      <td>13+</td>\n",
              "      <td>5.4</td>\n",
              "      <td>17</td>\n",
              "      <td>Indonesian</td>\n",
              "      <td>Hadrah Daeng Ratu</td>\n",
              "      <td>['Natasha Wilona', 'Ria Ricis', 'Al Ghazali', ...</td>\n",
              "      <td>92 min</td>\n",
              "    </tr>\n",
              "    <tr>\n",
              "      <th>3</th>\n",
              "      <td>Anak Garuda</td>\n",
              "      <td>2020</td>\n",
              "      <td>Good Morning Indonesia, a school for poor orph...</td>\n",
              "      <td>Adventure</td>\n",
              "      <td>13+</td>\n",
              "      <td>9.1</td>\n",
              "      <td>27</td>\n",
              "      <td>Indonesian</td>\n",
              "      <td>Faozan Rizal</td>\n",
              "      <td>['Tissa Biani Azzahra', 'Violla Georgie', 'Aji...</td>\n",
              "      <td>129 min</td>\n",
              "    </tr>\n",
              "    <tr>\n",
              "      <th>4</th>\n",
              "      <td>Dignitate</td>\n",
              "      <td>2020</td>\n",
              "      <td>Alfi (Al Ghazali) meets Alana (Caitlin Halderm...</td>\n",
              "      <td>Drama</td>\n",
              "      <td>17+</td>\n",
              "      <td>7.6</td>\n",
              "      <td>33</td>\n",
              "      <td>Indonesian</td>\n",
              "      <td>Fajar Nugros</td>\n",
              "      <td>['Al Ghazali', 'Caitlin Halderman', 'Giorgino ...</td>\n",
              "      <td>109 min</td>\n",
              "    </tr>\n",
              "  </tbody>\n",
              "</table>\n",
              "</div>\n",
              "      <button class=\"colab-df-convert\" onclick=\"convertToInteractive('df-1e14ec8b-8713-40ca-ae07-59f2c8ec9b28')\"\n",
              "              title=\"Convert this dataframe to an interactive table.\"\n",
              "              style=\"display:none;\">\n",
              "        \n",
              "  <svg xmlns=\"http://www.w3.org/2000/svg\" height=\"24px\"viewBox=\"0 0 24 24\"\n",
              "       width=\"24px\">\n",
              "    <path d=\"M0 0h24v24H0V0z\" fill=\"none\"/>\n",
              "    <path d=\"M18.56 5.44l.94 2.06.94-2.06 2.06-.94-2.06-.94-.94-2.06-.94 2.06-2.06.94zm-11 1L8.5 8.5l.94-2.06 2.06-.94-2.06-.94L8.5 2.5l-.94 2.06-2.06.94zm10 10l.94 2.06.94-2.06 2.06-.94-2.06-.94-.94-2.06-.94 2.06-2.06.94z\"/><path d=\"M17.41 7.96l-1.37-1.37c-.4-.4-.92-.59-1.43-.59-.52 0-1.04.2-1.43.59L10.3 9.45l-7.72 7.72c-.78.78-.78 2.05 0 2.83L4 21.41c.39.39.9.59 1.41.59.51 0 1.02-.2 1.41-.59l7.78-7.78 2.81-2.81c.8-.78.8-2.07 0-2.86zM5.41 20L4 18.59l7.72-7.72 1.47 1.35L5.41 20z\"/>\n",
              "  </svg>\n",
              "      </button>\n",
              "      \n",
              "  <style>\n",
              "    .colab-df-container {\n",
              "      display:flex;\n",
              "      flex-wrap:wrap;\n",
              "      gap: 12px;\n",
              "    }\n",
              "\n",
              "    .colab-df-convert {\n",
              "      background-color: #E8F0FE;\n",
              "      border: none;\n",
              "      border-radius: 50%;\n",
              "      cursor: pointer;\n",
              "      display: none;\n",
              "      fill: #1967D2;\n",
              "      height: 32px;\n",
              "      padding: 0 0 0 0;\n",
              "      width: 32px;\n",
              "    }\n",
              "\n",
              "    .colab-df-convert:hover {\n",
              "      background-color: #E2EBFA;\n",
              "      box-shadow: 0px 1px 2px rgba(60, 64, 67, 0.3), 0px 1px 3px 1px rgba(60, 64, 67, 0.15);\n",
              "      fill: #174EA6;\n",
              "    }\n",
              "\n",
              "    [theme=dark] .colab-df-convert {\n",
              "      background-color: #3B4455;\n",
              "      fill: #D2E3FC;\n",
              "    }\n",
              "\n",
              "    [theme=dark] .colab-df-convert:hover {\n",
              "      background-color: #434B5C;\n",
              "      box-shadow: 0px 1px 3px 1px rgba(0, 0, 0, 0.15);\n",
              "      filter: drop-shadow(0px 1px 2px rgba(0, 0, 0, 0.3));\n",
              "      fill: #FFFFFF;\n",
              "    }\n",
              "  </style>\n",
              "\n",
              "      <script>\n",
              "        const buttonEl =\n",
              "          document.querySelector('#df-1e14ec8b-8713-40ca-ae07-59f2c8ec9b28 button.colab-df-convert');\n",
              "        buttonEl.style.display =\n",
              "          google.colab.kernel.accessAllowed ? 'block' : 'none';\n",
              "\n",
              "        async function convertToInteractive(key) {\n",
              "          const element = document.querySelector('#df-1e14ec8b-8713-40ca-ae07-59f2c8ec9b28');\n",
              "          const dataTable =\n",
              "            await google.colab.kernel.invokeFunction('convertToInteractive',\n",
              "                                                     [key], {});\n",
              "          if (!dataTable) return;\n",
              "\n",
              "          const docLinkHtml = 'Like what you see? Visit the ' +\n",
              "            '<a target=\"_blank\" href=https://colab.research.google.com/notebooks/data_table.ipynb>data table notebook</a>'\n",
              "            + ' to learn more about interactive tables.';\n",
              "          element.innerHTML = '';\n",
              "          dataTable['output_type'] = 'display_data';\n",
              "          await google.colab.output.renderOutput(dataTable, element);\n",
              "          const docLink = document.createElement('div');\n",
              "          docLink.innerHTML = docLinkHtml;\n",
              "          element.appendChild(docLink);\n",
              "        }\n",
              "      </script>\n",
              "    </div>\n",
              "  </div>\n",
              "  "
            ]
          },
          "metadata": {},
          "execution_count": 8
        }
      ],
      "source": [
        "df = df.dropna(axis='rows')\n",
        "df.head()"
      ]
    },
    {
      "cell_type": "code",
      "execution_count": 9,
      "id": "8071beaa",
      "metadata": {
        "colab": {
          "base_uri": "https://localhost:8080/"
        },
        "id": "8071beaa",
        "outputId": "68c86e6c-e785-4863-ad46-af5258071269"
      },
      "outputs": [
        {
          "output_type": "stream",
          "name": "stdout",
          "text": [
            "title           0\n",
            "year            0\n",
            "description     0\n",
            "genre           0\n",
            "rating          0\n",
            "users_rating    0\n",
            "votes           0\n",
            "languages       0\n",
            "directors       0\n",
            "actors          0\n",
            "runtime         0\n",
            "dtype: int64\n"
          ]
        }
      ],
      "source": [
        "print(df.isnull().sum().sort_values(ascending=False))"
      ]
    },
    {
      "cell_type": "markdown",
      "id": "9342945a",
      "metadata": {
        "id": "9342945a"
      },
      "source": [
        "dalam hal ini row yang terdapat missing value sudah tidak ada"
      ]
    },
    {
      "cell_type": "markdown",
      "id": "8a6b26e1",
      "metadata": {
        "id": "8a6b26e1"
      },
      "source": [
        "# Dalam informasi dataset di atas bahwa genre bertype object dan user_rating bertype float\n",
        "Metode apriori dalam market basket analysis nantinya akan error, maka kita akan ubah dengan type string dan type integer"
      ]
    },
    {
      "cell_type": "code",
      "execution_count": 10,
      "id": "58caedbc",
      "metadata": {
        "id": "58caedbc"
      },
      "outputs": [],
      "source": [
        "df['users_rating'] = df['users_rating'].astype(int)"
      ]
    },
    {
      "cell_type": "code",
      "execution_count": 11,
      "id": "4f4c75b1",
      "metadata": {
        "id": "4f4c75b1"
      },
      "outputs": [],
      "source": [
        "df['genre'] = df['genre'].astype(str)"
      ]
    },
    {
      "cell_type": "code",
      "execution_count": 12,
      "id": "28b1ac58",
      "metadata": {
        "colab": {
          "base_uri": "https://localhost:8080/"
        },
        "id": "28b1ac58",
        "outputId": "258f1603-788e-47e6-9ef4-adfefa94a7fe"
      },
      "outputs": [
        {
          "output_type": "stream",
          "name": "stdout",
          "text": [
            "Dataset Information: \n",
            "\n",
            "<class 'pandas.core.frame.DataFrame'>\n",
            "Int64Index: 286 entries, 0 to 1222\n",
            "Data columns (total 11 columns):\n",
            " #   Column        Non-Null Count  Dtype \n",
            "---  ------        --------------  ----- \n",
            " 0   title         286 non-null    object\n",
            " 1   year          286 non-null    int64 \n",
            " 2   description   286 non-null    object\n",
            " 3   genre         286 non-null    object\n",
            " 4   rating        286 non-null    object\n",
            " 5   users_rating  286 non-null    int64 \n",
            " 6   votes         286 non-null    object\n",
            " 7   languages     286 non-null    object\n",
            " 8   directors     286 non-null    object\n",
            " 9   actors        286 non-null    object\n",
            " 10  runtime       286 non-null    object\n",
            "dtypes: int64(2), object(9)\n",
            "memory usage: 26.8+ KB\n",
            "None\n"
          ]
        }
      ],
      "source": [
        "print('Dataset Information: \\n')\n",
        "print(df.info())"
      ]
    },
    {
      "cell_type": "markdown",
      "id": "0f6075a1",
      "metadata": {
        "id": "0f6075a1"
      },
      "source": [
        "## Jika semua sudah aman kita akan drop column yang tidak diperlukan"
      ]
    },
    {
      "cell_type": "code",
      "execution_count": 13,
      "id": "1862c94e",
      "metadata": {
        "id": "1862c94e"
      },
      "outputs": [],
      "source": [
        "columns = ['title','description','rating','votes','languages','directors','actors','runtime']\n",
        "df.drop(columns, inplace=True, axis=1)"
      ]
    },
    {
      "cell_type": "code",
      "execution_count": 14,
      "id": "c454789a",
      "metadata": {
        "colab": {
          "base_uri": "https://localhost:8080/"
        },
        "id": "c454789a",
        "outputId": "97d8db5b-1054-46c6-c57d-337ff95668d1"
      },
      "outputs": [
        {
          "output_type": "stream",
          "name": "stdout",
          "text": [
            "Dataset Information: \n",
            "\n",
            "<class 'pandas.core.frame.DataFrame'>\n",
            "Int64Index: 286 entries, 0 to 1222\n",
            "Data columns (total 3 columns):\n",
            " #   Column        Non-Null Count  Dtype \n",
            "---  ------        --------------  ----- \n",
            " 0   year          286 non-null    int64 \n",
            " 1   genre         286 non-null    object\n",
            " 2   users_rating  286 non-null    int64 \n",
            "dtypes: int64(2), object(1)\n",
            "memory usage: 8.9+ KB\n",
            "None\n"
          ]
        }
      ],
      "source": [
        "print('Dataset Information: \\n')\n",
        "print(df.info())"
      ]
    },
    {
      "cell_type": "markdown",
      "id": "b1f10d74",
      "metadata": {
        "id": "b1f10d74"
      },
      "source": [
        "# Visualisasi dan Memahami data"
      ]
    },
    {
      "cell_type": "code",
      "execution_count": 15,
      "id": "d8de67a6",
      "metadata": {
        "colab": {
          "base_uri": "https://localhost:8080/"
        },
        "id": "d8de67a6",
        "outputId": "95964e27-c965-4620-f36f-2f7dcbff7065"
      },
      "outputs": [
        {
          "output_type": "stream",
          "name": "stdout",
          "text": [
            "Biggest Rate Genre film: \n",
            "\n",
            "Drama        96\n",
            "Horror       68\n",
            "Comedy       56\n",
            "Action       33\n",
            "Adventure    18\n",
            "Biography     8\n",
            "Crime         3\n",
            "Thriller      1\n",
            "Animation     1\n",
            "History       1\n",
            "Romance       1\n",
            "Name: genre, dtype: int64\n"
          ]
        }
      ],
      "source": [
        "most_rate = df['genre'].value_counts().head(20)\n",
        "\n",
        "print('Biggest Rate Genre film: \\n')\n",
        "print(most_rate)"
      ]
    },
    {
      "cell_type": "code",
      "execution_count": 16,
      "id": "c3989923",
      "metadata": {
        "colab": {
          "base_uri": "https://localhost:8080/",
          "height": 237
        },
        "id": "c3989923",
        "outputId": "bb6806d4-ed61-46ee-d1c8-f5e79c1c6ddf"
      },
      "outputs": [
        {
          "output_type": "execute_result",
          "data": {
            "text/plain": [
              "           users_rating\n",
              "genre                  \n",
              "Drama         33.566434\n",
              "Horror        23.776224\n",
              "Comedy        19.580420\n",
              "Action        11.538462\n",
              "Adventure      6.293706"
            ],
            "text/html": [
              "\n",
              "  <div id=\"df-62ef75b8-4ad5-42f0-aef9-6f1ac4dd94c4\">\n",
              "    <div class=\"colab-df-container\">\n",
              "      <div>\n",
              "<style scoped>\n",
              "    .dataframe tbody tr th:only-of-type {\n",
              "        vertical-align: middle;\n",
              "    }\n",
              "\n",
              "    .dataframe tbody tr th {\n",
              "        vertical-align: top;\n",
              "    }\n",
              "\n",
              "    .dataframe thead th {\n",
              "        text-align: right;\n",
              "    }\n",
              "</style>\n",
              "<table border=\"1\" class=\"dataframe\">\n",
              "  <thead>\n",
              "    <tr style=\"text-align: right;\">\n",
              "      <th></th>\n",
              "      <th>users_rating</th>\n",
              "    </tr>\n",
              "    <tr>\n",
              "      <th>genre</th>\n",
              "      <th></th>\n",
              "    </tr>\n",
              "  </thead>\n",
              "  <tbody>\n",
              "    <tr>\n",
              "      <th>Drama</th>\n",
              "      <td>33.566434</td>\n",
              "    </tr>\n",
              "    <tr>\n",
              "      <th>Horror</th>\n",
              "      <td>23.776224</td>\n",
              "    </tr>\n",
              "    <tr>\n",
              "      <th>Comedy</th>\n",
              "      <td>19.580420</td>\n",
              "    </tr>\n",
              "    <tr>\n",
              "      <th>Action</th>\n",
              "      <td>11.538462</td>\n",
              "    </tr>\n",
              "    <tr>\n",
              "      <th>Adventure</th>\n",
              "      <td>6.293706</td>\n",
              "    </tr>\n",
              "  </tbody>\n",
              "</table>\n",
              "</div>\n",
              "      <button class=\"colab-df-convert\" onclick=\"convertToInteractive('df-62ef75b8-4ad5-42f0-aef9-6f1ac4dd94c4')\"\n",
              "              title=\"Convert this dataframe to an interactive table.\"\n",
              "              style=\"display:none;\">\n",
              "        \n",
              "  <svg xmlns=\"http://www.w3.org/2000/svg\" height=\"24px\"viewBox=\"0 0 24 24\"\n",
              "       width=\"24px\">\n",
              "    <path d=\"M0 0h24v24H0V0z\" fill=\"none\"/>\n",
              "    <path d=\"M18.56 5.44l.94 2.06.94-2.06 2.06-.94-2.06-.94-.94-2.06-.94 2.06-2.06.94zm-11 1L8.5 8.5l.94-2.06 2.06-.94-2.06-.94L8.5 2.5l-.94 2.06-2.06.94zm10 10l.94 2.06.94-2.06 2.06-.94-2.06-.94-.94-2.06-.94 2.06-2.06.94z\"/><path d=\"M17.41 7.96l-1.37-1.37c-.4-.4-.92-.59-1.43-.59-.52 0-1.04.2-1.43.59L10.3 9.45l-7.72 7.72c-.78.78-.78 2.05 0 2.83L4 21.41c.39.39.9.59 1.41.59.51 0 1.02-.2 1.41-.59l7.78-7.78 2.81-2.81c.8-.78.8-2.07 0-2.86zM5.41 20L4 18.59l7.72-7.72 1.47 1.35L5.41 20z\"/>\n",
              "  </svg>\n",
              "      </button>\n",
              "      \n",
              "  <style>\n",
              "    .colab-df-container {\n",
              "      display:flex;\n",
              "      flex-wrap:wrap;\n",
              "      gap: 12px;\n",
              "    }\n",
              "\n",
              "    .colab-df-convert {\n",
              "      background-color: #E8F0FE;\n",
              "      border: none;\n",
              "      border-radius: 50%;\n",
              "      cursor: pointer;\n",
              "      display: none;\n",
              "      fill: #1967D2;\n",
              "      height: 32px;\n",
              "      padding: 0 0 0 0;\n",
              "      width: 32px;\n",
              "    }\n",
              "\n",
              "    .colab-df-convert:hover {\n",
              "      background-color: #E2EBFA;\n",
              "      box-shadow: 0px 1px 2px rgba(60, 64, 67, 0.3), 0px 1px 3px 1px rgba(60, 64, 67, 0.15);\n",
              "      fill: #174EA6;\n",
              "    }\n",
              "\n",
              "    [theme=dark] .colab-df-convert {\n",
              "      background-color: #3B4455;\n",
              "      fill: #D2E3FC;\n",
              "    }\n",
              "\n",
              "    [theme=dark] .colab-df-convert:hover {\n",
              "      background-color: #434B5C;\n",
              "      box-shadow: 0px 1px 3px 1px rgba(0, 0, 0, 0.15);\n",
              "      filter: drop-shadow(0px 1px 2px rgba(0, 0, 0, 0.3));\n",
              "      fill: #FFFFFF;\n",
              "    }\n",
              "  </style>\n",
              "\n",
              "      <script>\n",
              "        const buttonEl =\n",
              "          document.querySelector('#df-62ef75b8-4ad5-42f0-aef9-6f1ac4dd94c4 button.colab-df-convert');\n",
              "        buttonEl.style.display =\n",
              "          google.colab.kernel.accessAllowed ? 'block' : 'none';\n",
              "\n",
              "        async function convertToInteractive(key) {\n",
              "          const element = document.querySelector('#df-62ef75b8-4ad5-42f0-aef9-6f1ac4dd94c4');\n",
              "          const dataTable =\n",
              "            await google.colab.kernel.invokeFunction('convertToInteractive',\n",
              "                                                     [key], {});\n",
              "          if (!dataTable) return;\n",
              "\n",
              "          const docLinkHtml = 'Like what you see? Visit the ' +\n",
              "            '<a target=\"_blank\" href=https://colab.research.google.com/notebooks/data_table.ipynb>data table notebook</a>'\n",
              "            + ' to learn more about interactive tables.';\n",
              "          element.innerHTML = '';\n",
              "          dataTable['output_type'] = 'display_data';\n",
              "          await google.colab.output.renderOutput(dataTable, element);\n",
              "          const docLink = document.createElement('div');\n",
              "          docLink.innerHTML = docLinkHtml;\n",
              "          element.appendChild(docLink);\n",
              "        }\n",
              "      </script>\n",
              "    </div>\n",
              "  </div>\n",
              "  "
            ]
          },
          "metadata": {},
          "execution_count": 16
        }
      ],
      "source": [
        "#presentase dari rating tiap genre\n",
        "rating_count = df.groupby(by='genre')[['users_rating']].count().sort_values(by='users_rating', ascending=False)\n",
        "def convert_to_percentage(x):\n",
        "    return 100 * x / float(x.sum())\n",
        "\n",
        "rating_percentage = rating_count.apply(convert_to_percentage)\n",
        "rating_percentage.head()"
      ]
    },
    {
      "cell_type": "code",
      "execution_count": 17,
      "id": "b771e0d0",
      "metadata": {
        "colab": {
          "base_uri": "https://localhost:8080/",
          "height": 450
        },
        "id": "b771e0d0",
        "outputId": "286a46e8-4a65-4a0b-c577-9899e7fa4716"
      },
      "outputs": [
        {
          "output_type": "execute_result",
          "data": {
            "text/plain": [
              "Text(0.5, 1.0, 'Items Most Rate')"
            ]
          },
          "metadata": {},
          "execution_count": 17
        },
        {
          "output_type": "display_data",
          "data": {
            "text/plain": [
              "<Figure size 1440x432 with 2 Axes>"
            ],
            "image/png": "[encoded data removed]"
          },
          "metadata": {
            "needs_background": "light"
          }
        }
      ],
      "source": [
        "# visualisasikan data rating terbanyak ke line chart dan bar chart\n",
        "plt.figure(figsize=(20,6))\n",
        "\n",
        "plt.subplot(1,2,1)\n",
        "#plt.plot(most_rate)\n",
        "most_rate.plot(kind='line')\n",
        "plt.title('Items Most Rate')\n",
        "\n",
        "plt.subplot(1,2,2)\n",
        "most_rate.plot(kind='bar')\n",
        "plt.title('Items Most Rate')"
      ]
    },
    {
      "cell_type": "code",
      "execution_count": 18,
      "id": "4120ebaf",
      "metadata": {
        "colab": {
          "base_uri": "https://localhost:8080/",
          "height": 311
        },
        "id": "4120ebaf",
        "outputId": "3bb0aee6-5d5a-4a08-f25c-e635d061f263"
      },
      "outputs": [
        {
          "output_type": "display_data",
          "data": {
            "text/plain": [
              "<Figure size 432x288 with 1 Axes>"
            ],
            "image/png": "[encoded data removed]"
          },
          "metadata": {
            "needs_background": "light"
          }
        }
      ],
      "source": [
        "df.groupby('year')['users_rating'].nunique().plot(kind='bar', title='Tahun dari Genre')\n",
        "plt.show()"
      ]
    },
    {
      "cell_type": "code",
      "execution_count": 19,
      "id": "b2f2daa4",
      "metadata": {
        "colab": {
          "base_uri": "https://localhost:8080/"
        },
        "id": "b2f2daa4",
        "outputId": "a3bca7ef-b436-4e38-d8bd-fda5e1ea2fc8"
      },
      "outputs": [
        {
          "output_type": "stream",
          "name": "stdout",
          "text": [
            "year\n",
            "1980    1\n",
            "1981    1\n",
            "1982    1\n",
            "1983    1\n",
            "1986    1\n",
            "1988    1\n",
            "1992    1\n",
            "1993    1\n",
            "1995    1\n",
            "2005    1\n",
            "2006    1\n",
            "2007    3\n",
            "2008    4\n",
            "2009    3\n",
            "2010    1\n",
            "2011    3\n",
            "2012    2\n",
            "2013    4\n",
            "2014    4\n",
            "2015    4\n",
            "2016    5\n",
            "2017    6\n",
            "2018    8\n",
            "2019    8\n",
            "2020    5\n",
            "Name: users_rating, dtype: int64\n"
          ]
        }
      ],
      "source": [
        "print(df.groupby('year')['users_rating'].nunique())"
      ]
    },
    {
      "cell_type": "code",
      "execution_count": 20,
      "id": "d1ee2c1d",
      "metadata": {
        "id": "d1ee2c1d"
      },
      "outputs": [],
      "source": [
        "from mlxtend.preprocessing import TransactionEncoder\n",
        "from mlxtend.frequent_patterns import association_rules, apriori"
      ]
    },
    {
      "cell_type": "code",
      "execution_count": 21,
      "id": "35ef060a",
      "metadata": {
        "colab": {
          "base_uri": "https://localhost:8080/"
        },
        "id": "35ef060a",
        "outputId": "d57aade0-bce9-4826-a4b0-7f2783ac259f"
      },
      "outputs": [
        {
          "output_type": "stream",
          "name": "stdout",
          "text": [
            "9\n"
          ]
        }
      ],
      "source": [
        "transaction_list = []\n",
        "\n",
        "# For loop to create a list of the unique transactions throughout the dataset:\n",
        "for i in df['users_rating'].unique():\n",
        "    tlist = list(set(df[df['users_rating']==i]['genre']))\n",
        "    if len(tlist)>0:\n",
        "        transaction_list.append(tlist)\n",
        "print(len(transaction_list))"
      ]
    },
    {
      "cell_type": "code",
      "source": [
        "te = TransactionEncoder()\n",
        "te_ary = te.fit(transaction_list).transform(transaction_list)\n",
        "df2 = pd.DataFrame(te_ary, columns=te.columns_)"
      ],
      "metadata": {
        "id": "9_S_n3XEmfXA"
      },
      "id": "9_S_n3XEmfXA",
      "execution_count": 22,
      "outputs": []
    },
    {
      "cell_type": "code",
      "source": [
        "frequent_itemsets = apriori(df2, min_support=0.01, use_colnames=True)\n",
        "rules = association_rules(frequent_itemsets, metric='lift', min_threshold=1.0)\n",
        "metrix = pd.DataFrame(rules)\n",
        "metrix[['antecedents','consequents', 'support', 'confidence', 'lift']].sort_values('lift', ascending=False)"
      ],
      "metadata": {
        "colab": {
          "base_uri": "https://localhost:8080/",
          "height": 423
        },
        "id": "q9ZJje8mmmxt",
        "outputId": "95e6d65b-8cc4-4f80-a5b2-89c6c34d2a2d"
      },
      "id": "q9ZJje8mmmxt",
      "execution_count": 23,
      "outputs": [
        {
          "output_type": "execute_result",
          "data": {
            "text/plain": [
              "                        antecedents  \\\n",
              "29462  (Romance, Horror, Adventure)   \n",
              "8566   (Biography, Comedy, History)   \n",
              "30230     (Comedy, Drama, Thriller)   \n",
              "8569   (Comedy, History, Adventure)   \n",
              "8570   (Comedy, Romance, Adventure)   \n",
              "...                             ...   \n",
              "1586                       (Horror)   \n",
              "1701     (Biography, Drama, Action)   \n",
              "6517                       (Horror)   \n",
              "50                      (Biography)   \n",
              "203             (Biography, Action)   \n",
              "\n",
              "                                            consequents   support  confidence  \\\n",
              "29462                   (Comedy, Drama, History, Crime)  0.111111    1.000000   \n",
              "8566                               (Romance, Adventure)  0.111111    1.000000   \n",
              "30230  (Biography, Adventure, Action, Crime, Animation)  0.111111    1.000000   \n",
              "8569                               (Biography, Romance)  0.111111    1.000000   \n",
              "8570                               (Biography, History)  0.111111    1.000000   \n",
              "...                                                 ...       ...         ...   \n",
              "1586                        (Biography, Comedy, Action)  0.222222    0.333333   \n",
              "1701                                           (Horror)  0.222222    0.666667   \n",
              "6517                 (Biography, Comedy, Drama, Action)  0.222222    0.333333   \n",
              "50                                             (Horror)  0.222222    0.666667   \n",
              "203                                            (Horror)  0.222222    0.666667   \n",
              "\n",
              "       lift  \n",
              "29462   9.0  \n",
              "8566    9.0  \n",
              "30230   9.0  \n",
              "8569    9.0  \n",
              "8570    9.0  \n",
              "...     ...  \n",
              "1586    1.0  \n",
              "1701    1.0  \n",
              "6517    1.0  \n",
              "50      1.0  \n",
              "203     1.0  \n",
              "\n",
              "[35358 rows x 5 columns]"
            ],
            "text/html": [
              "\n",
              "  <div id=\"df-ac292804-7267-4df1-8be2-4f792d2b0504\">\n",
              "    <div class=\"colab-df-container\">\n",
              "      <div>\n",
              "<style scoped>\n",
              "    .dataframe tbody tr th:only-of-type {\n",
              "        vertical-align: middle;\n",
              "    }\n",
              "\n",
              "    .dataframe tbody tr th {\n",
              "        vertical-align: top;\n",
              "    }\n",
              "\n",
              "    .dataframe thead th {\n",
              "        text-align: right;\n",
              "    }\n",
              "</style>\n",
              "<table border=\"1\" class=\"dataframe\">\n",
              "  <thead>\n",
              "    <tr style=\"text-align: right;\">\n",
              "      <th></th>\n",
              "      <th>antecedents</th>\n",
              "      <th>consequents</th>\n",
              "      <th>support</th>\n",
              "      <th>confidence</th>\n",
              "      <th>lift</th>\n",
              "    </tr>\n",
              "  </thead>\n",
              "  <tbody>\n",
              "    <tr>\n",
              "      <th>29462</th>\n",
              "      <td>(Romance, Horror, Adventure)</td>\n",
              "      <td>(Comedy, Drama, History, Crime)</td>\n",
              "      <td>0.111111</td>\n",
              "      <td>1.000000</td>\n",
              "      <td>9.0</td>\n",
              "    </tr>\n",
              "    <tr>\n",
              "      <th>8566</th>\n",
              "      <td>(Biography, Comedy, History)</td>\n",
              "      <td>(Romance, Adventure)</td>\n",
              "      <td>0.111111</td>\n",
              "      <td>1.000000</td>\n",
              "      <td>9.0</td>\n",
              "    </tr>\n",
              "    <tr>\n",
              "      <th>30230</th>\n",
              "      <td>(Comedy, Drama, Thriller)</td>\n",
              "      <td>(Biography, Adventure, Action, Crime, Animation)</td>\n",
              "      <td>0.111111</td>\n",
              "      <td>1.000000</td>\n",
              "      <td>9.0</td>\n",
              "    </tr>\n",
              "    <tr>\n",
              "      <th>8569</th>\n",
              "      <td>(Comedy, History, Adventure)</td>\n",
              "      <td>(Biography, Romance)</td>\n",
              "      <td>0.111111</td>\n",
              "      <td>1.000000</td>\n",
              "      <td>9.0</td>\n",
              "    </tr>\n",
              "    <tr>\n",
              "      <th>8570</th>\n",
              "      <td>(Comedy, Romance, Adventure)</td>\n",
              "      <td>(Biography, History)</td>\n",
              "      <td>0.111111</td>\n",
              "      <td>1.000000</td>\n",
              "      <td>9.0</td>\n",
              "    </tr>\n",
              "    <tr>\n",
              "      <th>...</th>\n",
              "      <td>...</td>\n",
              "      <td>...</td>\n",
              "      <td>...</td>\n",
              "      <td>...</td>\n",
              "      <td>...</td>\n",
              "    </tr>\n",
              "    <tr>\n",
              "      <th>1586</th>\n",
              "      <td>(Horror)</td>\n",
              "      <td>(Biography, Comedy, Action)</td>\n",
              "      <td>0.222222</td>\n",
              "      <td>0.333333</td>\n",
              "      <td>1.0</td>\n",
              "    </tr>\n",
              "    <tr>\n",
              "      <th>1701</th>\n",
              "      <td>(Biography, Drama, Action)</td>\n",
              "      <td>(Horror)</td>\n",
              "      <td>0.222222</td>\n",
              "      <td>0.666667</td>\n",
              "      <td>1.0</td>\n",
              "    </tr>\n",
              "    <tr>\n",
              "      <th>6517</th>\n",
              "      <td>(Horror)</td>\n",
              "      <td>(Biography, Comedy, Drama, Action)</td>\n",
              "      <td>0.222222</td>\n",
              "      <td>0.333333</td>\n",
              "      <td>1.0</td>\n",
              "    </tr>\n",
              "    <tr>\n",
              "      <th>50</th>\n",
              "      <td>(Biography)</td>\n",
              "      <td>(Horror)</td>\n",
              "      <td>0.222222</td>\n",
              "      <td>0.666667</td>\n",
              "      <td>1.0</td>\n",
              "    </tr>\n",
              "    <tr>\n",
              "      <th>203</th>\n",
              "      <td>(Biography, Action)</td>\n",
              "      <td>(Horror)</td>\n",
              "      <td>0.222222</td>\n",
              "      <td>0.666667</td>\n",
              "      <td>1.0</td>\n",
              "    </tr>\n",
              "  </tbody>\n",
              "</table>\n",
              "<p>35358 rows × 5 columns</p>\n",
              "</div>\n",
              "      <button class=\"colab-df-convert\" onclick=\"convertToInteractive('df-ac292804-7267-4df1-8be2-4f792d2b0504')\"\n",
              "              title=\"Convert this dataframe to an interactive table.\"\n",
              "              style=\"display:none;\">\n",
              "        \n",
              "  <svg xmlns=\"http://www.w3.org/2000/svg\" height=\"24px\"viewBox=\"0 0 24 24\"\n",
              "       width=\"24px\">\n",
              "    <path d=\"M0 0h24v24H0V0z\" fill=\"none\"/>\n",
              "    <path d=\"M18.56 5.44l.94 2.06.94-2.06 2.06-.94-2.06-.94-.94-2.06-.94 2.06-2.06.94zm-11 1L8.5 8.5l.94-2.06 2.06-.94-2.06-.94L8.5 2.5l-.94 2.06-2.06.94zm10 10l.94 2.06.94-2.06 2.06-.94-2.06-.94-.94-2.06-.94 2.06-2.06.94z\"/><path d=\"M17.41 7.96l-1.37-1.37c-.4-.4-.92-.59-1.43-.59-.52 0-1.04.2-1.43.59L10.3 9.45l-7.72 7.72c-.78.78-.78 2.05 0 2.83L4 21.41c.39.39.9.59 1.41.59.51 0 1.02-.2 1.41-.59l7.78-7.78 2.81-2.81c.8-.78.8-2.07 0-2.86zM5.41 20L4 18.59l7.72-7.72 1.47 1.35L5.41 20z\"/>\n",
              "  </svg>\n",
              "      </button>\n",
              "      \n",
              "  <style>\n",
              "    .colab-df-container {\n",
              "      display:flex;\n",
              "      flex-wrap:wrap;\n",
              "      gap: 12px;\n",
              "    }\n",
              "\n",
              "    .colab-df-convert {\n",
              "      background-color: #E8F0FE;\n",
              "      border: none;\n",
              "      border-radius: 50%;\n",
              "      cursor: pointer;\n",
              "      display: none;\n",
              "      fill: #1967D2;\n",
              "      height: 32px;\n",
              "      padding: 0 0 0 0;\n",
              "      width: 32px;\n",
              "    }\n",
              "\n",
              "    .colab-df-convert:hover {\n",
              "      background-color: #E2EBFA;\n",
              "      box-shadow: 0px 1px 2px rgba(60, 64, 67, 0.3), 0px 1px 3px 1px rgba(60, 64, 67, 0.15);\n",
              "      fill: #174EA6;\n",
              "    }\n",
              "\n",
              "    [theme=dark] .colab-df-convert {\n",
              "      background-color: #3B4455;\n",
              "      fill: #D2E3FC;\n",
              "    }\n",
              "\n",
              "    [theme=dark] .colab-df-convert:hover {\n",
              "      background-color: #434B5C;\n",
              "      box-shadow: 0px 1px 3px 1px rgba(0, 0, 0, 0.15);\n",
              "      filter: drop-shadow(0px 1px 2px rgba(0, 0, 0, 0.3));\n",
              "      fill: #FFFFFF;\n",
              "    }\n",
              "  </style>\n",
              "\n",
              "      <script>\n",
              "        const buttonEl =\n",
              "          document.querySelector('#df-ac292804-7267-4df1-8be2-4f792d2b0504 button.colab-df-convert');\n",
              "        buttonEl.style.display =\n",
              "          google.colab.kernel.accessAllowed ? 'block' : 'none';\n",
              "\n",
              "        async function convertToInteractive(key) {\n",
              "          const element = document.querySelector('#df-ac292804-7267-4df1-8be2-4f792d2b0504');\n",
              "          const dataTable =\n",
              "            await google.colab.kernel.invokeFunction('convertToInteractive',\n",
              "                                                     [key], {});\n",
              "          if (!dataTable) return;\n",
              "\n",
              "          const docLinkHtml = 'Like what you see? Visit the ' +\n",
              "            '<a target=\"_blank\" href=https://colab.research.google.com/notebooks/data_table.ipynb>data table notebook</a>'\n",
              "            + ' to learn more about interactive tables.';\n",
              "          element.innerHTML = '';\n",
              "          dataTable['output_type'] = 'display_data';\n",
              "          await google.colab.output.renderOutput(dataTable, element);\n",
              "          const docLink = document.createElement('div');\n",
              "          docLink.innerHTML = docLinkHtml;\n",
              "          element.appendChild(docLink);\n",
              "        }\n",
              "      </script>\n",
              "    </div>\n",
              "  </div>\n",
              "  "
            ]
          },
          "metadata": {},
          "execution_count": 23
        }
      ]
    },
    {
      "cell_type": "code",
      "source": [
        ""
      ],
      "metadata": {
        "id": "xYC-ZGagmtfn"
      },
      "id": "xYC-ZGagmtfn",
      "execution_count": null,
      "outputs": []
    }
  ],
  "metadata": {
    "kernelspec": {
      "display_name": "Python 3 (ipykernel)",
      "language": "python",
      "name": "python3"
    },
    "language_info": {
      "codemirror_mode": {
        "name": "ipython",
        "version": 3
      },
      "file_extension": ".py",
      "mimetype": "text/x-python",
      "name": "python",
      "nbconvert_exporter": "python",
      "pygments_lexer": "ipython3",
      "version": "3.8.8"
    },
    "colab": {
      "name": "mba_film_dataset.ipynb",
      "provenance": []
    }
  },
  "nbformat": 4,
  "nbformat_minor": 5
}